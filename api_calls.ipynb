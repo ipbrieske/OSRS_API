{
 "cells": [
  {
   "cell_type": "code",
   "execution_count": 51,
   "metadata": {},
   "outputs": [],
   "source": [
    "import requests\n",
    "import pandas as pd \n",
    "import json\n",
    "\n",
    "# Target URL\n",
    "target_url = ('https://secure.runescape.com/m=itemdb_oldschool/api/catalogue/category.json?category=1')"
   ]
  },
  {
   "cell_type": "code",
   "execution_count": 52,
   "metadata": {},
   "outputs": [
    {
     "data": {
      "text/plain": [
       "dict"
      ]
     },
     "execution_count": 52,
     "metadata": {},
     "output_type": "execute_result"
    }
   ],
   "source": [
    "# Request the data from OSRS api\n",
    "cat1_json = requests.get(target_url).json()\n",
    "\n",
    "# Test Type for successful request\n",
    "type(cat1_json)"
   ]
  },
  {
   "cell_type": "code",
   "execution_count": 53,
   "metadata": {},
   "outputs": [
    {
     "data": {
      "text/plain": [
       "{'types': [],\n",
       " 'alpha': [{'letter': '#', 'items': 23},\n",
       "  {'letter': 'a', 'items': 347},\n",
       "  {'letter': 'b', 'items': 472},\n",
       "  {'letter': 'c', 'items': 171},\n",
       "  {'letter': 'd', 'items': 238},\n",
       "  {'letter': 'e', 'items': 121},\n",
       "  {'letter': 'f', 'items': 81},\n",
       "  {'letter': 'g', 'items': 215},\n",
       "  {'letter': 'h', 'items': 56},\n",
       "  {'letter': 'i', 'items': 112},\n",
       "  {'letter': 'j', 'items': 40},\n",
       "  {'letter': 'k', 'items': 41},\n",
       "  {'letter': 'l', 'items': 78},\n",
       "  {'letter': 'm', 'items': 280},\n",
       "  {'letter': 'n', 'items': 25},\n",
       "  {'letter': 'o', 'items': 105},\n",
       "  {'letter': 'p', 'items': 151},\n",
       "  {'letter': 'q', 'items': 0},\n",
       "  {'letter': 'r', 'items': 290},\n",
       "  {'letter': 's', 'items': 491},\n",
       "  {'letter': 't', 'items': 248},\n",
       "  {'letter': 'u', 'items': 51},\n",
       "  {'letter': 'v', 'items': 43},\n",
       "  {'letter': 'w', 'items': 123},\n",
       "  {'letter': 'x', 'items': 4},\n",
       "  {'letter': 'y', 'items': 31},\n",
       "  {'letter': 'z', 'items': 54}]}"
      ]
     },
     "execution_count": 53,
     "metadata": {},
     "output_type": "execute_result"
    }
   ],
   "source": [
    "# We determined here by comparing our info to the itemdb_rs database that all oldschool\n",
    "# items fall into the 'default' category, or category 1\n",
    "cat1_json"
   ]
  },
  {
   "cell_type": "code",
   "execution_count": 55,
   "metadata": {},
   "outputs": [
    {
     "data": {
      "text/plain": [
       "dict"
      ]
     },
     "execution_count": 55,
     "metadata": {},
     "output_type": "execute_result"
    }
   ],
   "source": [
    "# I want to see what items start with X, considering it looks like Xeric's is the\n",
    "# main contributor\n",
    "letterX_url = \"https://services.runescape.com/m=itemdb_oldschool/api/catalogue/items.json?category=1&alpha=x&page=1\"\n",
    "\n",
    "# Request the data from OSRS api\n",
    "letterX_json = requests.get(letterX_url).json()\n",
    "\n",
    "# Test Type for successful request\n",
    "type(letterX_json)"
   ]
  },
  {
   "cell_type": "code",
   "execution_count": 62,
   "metadata": {},
   "outputs": [
    {
     "data": {
      "text/plain": [
       "4"
      ]
     },
     "execution_count": 62,
     "metadata": {},
     "output_type": "execute_result"
    }
   ],
   "source": [
    "# Sure enough, only four items, and in the next cell we demonstrate that they're the \n",
    "# Xerician's set\n",
    "len(letterX_json['items'])"
   ]
  },
  {
   "cell_type": "code",
   "execution_count": 66,
   "metadata": {},
   "outputs": [
    {
     "data": {
      "text/plain": [
       "{'icon': 'https://secure.runescape.com/m=itemdb_oldschool/1660558112148_obj_sprite.gif?id=13389',\n",
       " 'icon_large': 'https://secure.runescape.com/m=itemdb_oldschool/1660558112148_obj_big.gif?id=13389',\n",
       " 'id': 13389,\n",
       " 'type': 'Default',\n",
       " 'typeIcon': 'https://www.runescape.com/img/categories/Default',\n",
       " 'name': 'Xerician robe',\n",
       " 'description': 'The forgotten magicks of Xeric imbue this garment with a little power.',\n",
       " 'current': {'trend': 'neutral', 'price': '4,418'},\n",
       " 'today': {'trend': 'positive', 'price': '+26'},\n",
       " 'members': 'true'}"
      ]
     },
     "execution_count": 66,
     "metadata": {},
     "output_type": "execute_result"
    }
   ],
   "source": [
    "letterX_json['items'][2]"
   ]
  },
  {
   "cell_type": "code",
   "execution_count": 67,
   "metadata": {},
   "outputs": [
    {
     "data": {
      "text/plain": [
       "dict"
      ]
     },
     "execution_count": 67,
     "metadata": {},
     "output_type": "execute_result"
    }
   ],
   "source": [
    "items_url = ('https://services.runescape.com/m=itemdb_oldschool/api/catalogue/detail.json?item=13389')\n",
    "\n",
    "# Request the data from OSRS api\n",
    "item13389_json = requests.get(items_url).json()\n",
    "\n",
    "# Test Type for successful request\n",
    "type(item13389_json)"
   ]
  },
  {
   "cell_type": "code",
   "execution_count": 68,
   "metadata": {},
   "outputs": [
    {
     "data": {
      "text/plain": [
       "{'item': {'icon': 'https://secure.runescape.com/m=itemdb_oldschool/1660558112148_obj_sprite.gif?id=13389',\n",
       "  'icon_large': 'https://secure.runescape.com/m=itemdb_oldschool/1660558112148_obj_big.gif?id=13389',\n",
       "  'id': 13389,\n",
       "  'type': 'Default',\n",
       "  'typeIcon': 'https://www.runescape.com/img/categories/Default',\n",
       "  'name': 'Xerician robe',\n",
       "  'description': 'The forgotten magicks of Xeric imbue this garment with a little power.',\n",
       "  'current': {'trend': 'neutral', 'price': '4,418'},\n",
       "  'today': {'trend': 'positive', 'price': '+26'},\n",
       "  'members': 'true',\n",
       "  'day30': {'trend': 'positive', 'change': '+89.0%'},\n",
       "  'day90': {'trend': 'positive', 'change': '+18.0%'},\n",
       "  'day180': {'trend': 'positive', 'change': '+29.0%'}}}"
      ]
     },
     "execution_count": 68,
     "metadata": {},
     "output_type": "execute_result"
    }
   ],
   "source": [
    "item13389_json"
   ]
  },
  {
   "cell_type": "code",
   "execution_count": 70,
   "metadata": {},
   "outputs": [
    {
     "data": {
      "text/plain": [
       "'4,418'"
      ]
     },
     "execution_count": 70,
     "metadata": {},
     "output_type": "execute_result"
    }
   ],
   "source": [
    "item13389_json['item']['current']['price']"
   ]
  },
  {
   "cell_type": "code",
   "execution_count": null,
   "metadata": {},
   "outputs": [],
   "source": [
    "# So we see there's quite a few datapoints we can aggregate here. \n",
    "# Ideally, the program will pull once per day. I'm going to put together an\n",
    "# outline of what the final table will look like. Alternatively, I could just \n",
    "# Transcribe all the pages into a few separate tables. "
   ]
  }
 ],
 "metadata": {
  "kernelspec": {
   "display_name": "Python 3.7.13 ('PythonData')",
   "language": "python",
   "name": "python3"
  },
  "language_info": {
   "codemirror_mode": {
    "name": "ipython",
    "version": 3
   },
   "file_extension": ".py",
   "mimetype": "text/x-python",
   "name": "python",
   "nbconvert_exporter": "python",
   "pygments_lexer": "ipython3",
   "version": "3.7.13"
  },
  "orig_nbformat": 4,
  "vscode": {
   "interpreter": {
    "hash": "cd6e999085b2116a38aada16fd041d7562a26bd07e82114c42c80e5efd9969b8"
   }
  }
 },
 "nbformat": 4,
 "nbformat_minor": 2
}
